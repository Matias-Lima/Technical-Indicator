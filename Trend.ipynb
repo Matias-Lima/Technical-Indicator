{
 "cells": [
  {
   "cell_type": "code",
   "execution_count": null,
   "id": "7d8a499f-9748-4224-b685-06c3bade181f",
   "metadata": {},
   "outputs": [],
   "source": [
    "import pandas as pd\n",
    "import pandas_ta as ta\n",
    "import yfinance as yf\n",
    "import matplotlib.pyplot as plt\n",
    "plt.style.use('default')\n",
    "\n",
    "start_date = \"2019-10-27\"\n",
    "end_date = \"2022-08-02\"\n",
    "stock1 = \"AAPL\"\n",
    "df = yf.download([stock1], start = start_date, end = end_date)\n",
    "#print('data fields downloaded:', set(df.columns.get_level_values(0)))\n",
    "\n",
    "#---------------- TREND --------------------\n",
    "#Weighted Moving Average (WMA)\n",
    "\"\"\"df['WMA'] = ta.wma(df['Close'])\n",
    "df[['Close','WMA']].plot(figsize=(12,12))\n",
    "plt.show()\"\"\"\n",
    "#Simple Moving Average (SMA)\n",
    "\"\"\"df['SMA'] = ta.sma(df['Close'],20)\n",
    "df[['Close','SMA']].plot(figsize=(12,12))\n",
    "plt.show()\"\"\"\n",
    "\n",
    "#cci(high, low, close, length=None, c=None, talib=None, offset=None, **kwargs)\n",
    "#Commodity Channel Index (CCI)\n",
    "\"\"\"df['CCI'] = ta.cci(df['High'],df['Low'], df['Close'])\n",
    "print(df['CCI'])\n",
    "df[['CCI']].plot(figsize=(12,12))\n",
    "plt.show()\"\"\"\n",
    "#-----------------------------------------------\n",
    "\n"
   ]
  }
 ],
 "metadata": {
  "kernelspec": {
   "display_name": "Python 3 (ipykernel)",
   "language": "python",
   "name": "python3"
  },
  "language_info": {
   "codemirror_mode": {
    "name": "ipython",
    "version": 3
   },
   "file_extension": ".py",
   "mimetype": "text/x-python",
   "name": "python",
   "nbconvert_exporter": "python",
   "pygments_lexer": "ipython3",
   "version": "3.9.12"
  }
 },
 "nbformat": 4,
 "nbformat_minor": 5
}

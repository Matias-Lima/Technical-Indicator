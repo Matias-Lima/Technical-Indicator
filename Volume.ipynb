{
 "cells": [
  {
   "cell_type": "code",
   "execution_count": null,
   "id": "166c07ae-2a46-4afa-a932-01e894f83e7f",
   "metadata": {},
   "outputs": [],
   "source": [
    "import pandas as pd\n",
    "import pandas_ta as ta\n",
    "import yfinance as yf\n",
    "import matplotlib.pyplot as plt\n",
    "plt.style.use('default')\n",
    "\n",
    "start_date = \"2019-10-27\"\n",
    "end_date = \"2022-08-02\"\n",
    "stock1 = \"AAPL\"\n",
    "df = yf.download([stock1], start = start_date, end = end_date)\n",
    "#print('data fields downloaded:', set(df.columns.get_level_values(0)))\n",
    "\n",
    "\n",
    "#---------------- VOLUME --------------------\n",
    "# On Balance Volume\n",
    "\"\"\"df['OBV'] = ta.obv(df['Close'],df['Volume'])\n",
    "df[['Close','Volume','OBV']].plot(figsize=(12,12))\n",
    "plt.show()\"\"\"\n",
    "\n",
    "#Money Flow Index (MFI)\n",
    "\"\"\"df['MFI'] = ta.mfi(df['High'],df['Low'],df['Close'],df['Volume'])\n",
    "df[['Close','MFI']].plot(figsize=(12,12))\n",
    "plt.show()\"\"\"\n",
    "#--------------------------------------------"
   ]
  }
 ],
 "metadata": {
  "kernelspec": {
   "display_name": "Python 3 (ipykernel)",
   "language": "python",
   "name": "python3"
  },
  "language_info": {
   "codemirror_mode": {
    "name": "ipython",
    "version": 3
   },
   "file_extension": ".py",
   "mimetype": "text/x-python",
   "name": "python",
   "nbconvert_exporter": "python",
   "pygments_lexer": "ipython3",
   "version": "3.9.12"
  }
 },
 "nbformat": 4,
 "nbformat_minor": 5
}

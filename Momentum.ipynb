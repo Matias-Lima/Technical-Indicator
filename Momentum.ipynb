{
 "cells": [
  {
   "cell_type": "code",
   "execution_count": 14,
   "id": "57c7a411-d128-4bf0-b8dc-436163b92efe",
   "metadata": {},
   "outputs": [
    {
     "name": "stdout",
     "output_type": "stream",
     "text": [
      "[*********************100%***********************]  1 of 1 completed\n"
     ]
    },
    {
     "data": {
      "text/plain": [
       "\"df['ROCP'] = tl.ROCP(df['Close'], 14)\\ndf[['Close','ROCP']].plot(figsize=(12,12))\\nplt.show()\""
      ]
     },
     "execution_count": 14,
     "metadata": {},
     "output_type": "execute_result"
    }
   ],
   "source": [
    "import pandas as pd\n",
    "import pandas_ta as ta\n",
    "import yfinance as yf\n",
    "import matplotlib.pyplot as plt\n",
    "import talib as tl \n",
    "plt.style.use('default')\n",
    "\n",
    "start_date = \"2019-10-27\"\n",
    "end_date = \"2022-08-02\"\n",
    "stock1 = \"AAPL\"\n",
    "df = yf.download([stock1], start = start_date, end = end_date)\n",
    "#print('data fields downloaded:', set(df.columns.get_level_values(0)))\n",
    "\n",
    "#---------------- Momentum --------------------\n",
    "# Moving Average Convergence Divergence (MACD)\n",
    "\"\"\"df['MACD'] = ta.macd(df['Close'])\n",
    "df[['Close','MACD']].plot(figsize=(12,12))\n",
    "plt.show()\"\"\"\n",
    "\n",
    "#Rate of Change (ROC)\n",
    "\"\"\"df['ROC'] = ta.roc(df['Close'])\n",
    "df[['Close','ROC']].plot(figsize=(12,12))\n",
    "plt.show()\"\"\"\n",
    "\n",
    "#Momentum (MOM)\n",
    "\"\"\"df['MOM'] = ta.mom(df['Close'])\n",
    "df[['Close','MOM']].plot(figsize=(12,12))\n",
    "plt.show()\"\"\"\n",
    "\n",
    "# Chande Momentum Oscillator (CMO)\n",
    "\"\"\"df['COM'] = ta.cmo(df['Close'])\n",
    "df[['Close','COM']].plot(figsize=(12,12))\n",
    "plt.show()\"\"\"\n",
    "\n",
    "# Rate of change Percentage(ROCP)\n",
    "\"\"\"df['ROCP'] = tl.ROCP(df['Close'], 14)\n",
    "df[['Close','ROCP']].plot(figsize=(12,12))\n",
    "plt.show()\"\"\"\n",
    "\n"
   ]
  },
  {
   "cell_type": "code",
   "execution_count": null,
   "id": "ea839a5c-3ba0-4a5c-9a8c-72ee1d895dfd",
   "metadata": {},
   "outputs": [],
   "source": []
  }
 ],
 "metadata": {
  "kernelspec": {
   "display_name": "Python 3 (ipykernel)",
   "language": "python",
   "name": "python3"
  },
  "language_info": {
   "codemirror_mode": {
    "name": "ipython",
    "version": 3
   },
   "file_extension": ".py",
   "mimetype": "text/x-python",
   "name": "python",
   "nbconvert_exporter": "python",
   "pygments_lexer": "ipython3",
   "version": "3.9.12"
  }
 },
 "nbformat": 4,
 "nbformat_minor": 5
}
